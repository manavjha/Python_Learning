{
  "nbformat": 4,
  "nbformat_minor": 0,
  "metadata": {
    "colab": {
      "provenance": [],
      "authorship_tag": "ABX9TyP501/LvZnrYBtJ7PTQlSVo",
      "include_colab_link": true
    },
    "kernelspec": {
      "name": "python3",
      "display_name": "Python 3"
    },
    "language_info": {
      "name": "python"
    }
  },
  "cells": [
    {
      "cell_type": "markdown",
      "metadata": {
        "id": "view-in-github",
        "colab_type": "text"
      },
      "source": [
        "<a href=\"https://colab.research.google.com/github/manavjha/Python_Learning/blob/main/String_Lists.ipynb\" target=\"_parent\"><img src=\"https://colab.research.google.com/assets/colab-badge.svg\" alt=\"Open In Colab\"/></a>"
      ]
    },
    {
      "cell_type": "code",
      "source": [
        "num1=[10,20,30,40]\n",
        "num2=[30,40,50,60]\n",
        "num3=[i>20 for i in num1]\n",
        "print(num3)"
      ],
      "metadata": {
        "colab": {
          "base_uri": "https://localhost:8080/"
        },
        "id": "YEmgeRYVN37q",
        "outputId": "ffd3780f-1a1c-4e71-b173-401dbea127f5"
      },
      "execution_count": null,
      "outputs": [
        {
          "output_type": "stream",
          "name": "stdout",
          "text": [
            "[False, False, True, True]\n"
          ]
        }
      ]
    },
    {
      "cell_type": "code",
      "execution_count": null,
      "metadata": {
        "colab": {
          "base_uri": "https://localhost:8080/"
        },
        "id": "xZasV8ZS4gw7",
        "outputId": "87bad925-8473-4146-b551-093c9667b836"
      },
      "outputs": [
        {
          "output_type": "execute_result",
          "data": {
            "text/plain": [
              "{'userId': 1, 'id': 1, 'title': 'delectus aut autem', 'completed': False}"
            ]
          },
          "metadata": {},
          "execution_count": 45
        }
      ],
      "source": [
        "import requests\n",
        "api_url = \"https://jsonplaceholder.typicode.com/todos/1\"\n",
        "response = requests.get(api_url)\n",
        "response.json()"
      ]
    },
    {
      "cell_type": "code",
      "source": [
        "words=[\"Balaiah\",\"Nag\",\"venkatesh\",\"Chiranjeevi\"]\n",
        "#wd = [ len(x) for x in words]\n",
        "#wd = [x[0].upper() for x in words]\n",
        "wd=[x.split(' ') for x in words]\n",
        "print(wd)"
      ],
      "metadata": {
        "id": "quCSBpx2QVHo",
        "outputId": "71af91f4-5cd8-4fb3-86e3-d986aec287ae",
        "colab": {
          "base_uri": "https://localhost:8080/"
        }
      },
      "execution_count": null,
      "outputs": [
        {
          "output_type": "stream",
          "name": "stdout",
          "text": [
            "[['Balaiah'], ['Nag'], ['venkatesh'], ['Chiranjeevi']]\n"
          ]
        }
      ]
    },
    {
      "cell_type": "code",
      "source": [
        "word = \"manav\"\n",
        "di = {}\n",
        "for x in word:\n",
        "  if x in di.keys():\n",
        "   di[x] = di[x] +1\n",
        "  else:\n",
        "   di[x] = 1\n",
        "print(di.values())"
      ],
      "metadata": {
        "id": "RxC00U9sSsXs",
        "outputId": "d31dfda7-d19f-4b66-bc5a-35098f849566",
        "colab": {
          "base_uri": "https://localhost:8080/"
        }
      },
      "execution_count": null,
      "outputs": [
        {
          "output_type": "stream",
          "name": "stdout",
          "text": [
            "dict_values([1, 2, 1, 1])\n"
          ]
        }
      ]
    },
    {
      "cell_type": "code",
      "source": [
        "primes = [2, 3, 5, 7,1]\n",
        "print(sum(primes))\n",
        "print(max(primes))\n",
        "print(min(primes))\n",
        "print(sorted(primes))\n",
        "print(reversed(primes))"
      ],
      "metadata": {
        "id": "Ri4MBQ6sWYbe",
        "outputId": "a55970c9-ea04-4847-de23-5adf92d314ec",
        "colab": {
          "base_uri": "https://localhost:8080/"
        }
      },
      "execution_count": null,
      "outputs": [
        {
          "output_type": "stream",
          "name": "stdout",
          "text": [
            "18\n",
            "7\n",
            "1\n",
            "[1, 2, 3, 5, 7]\n",
            "<list_reverseiterator object at 0x794cd8e9d360>\n"
          ]
        }
      ]
    },
    {
      "cell_type": "code",
      "source": [
        "\"\"\"Return the second element of the given list. If the list has no second\n",
        " element, return None \"\"\"\n",
        "def Select_Second(l):\n",
        "  if len(l) >=2:\n",
        "   return l[1]\n",
        "  else:\n",
        "   return 'None'\n",
        "lst = [3,]\n",
        "Select_Second(lst)"
      ],
      "metadata": {
        "id": "MsQqml3rXpbZ",
        "outputId": "cefc8428-953d-4cfd-881a-19edd67c5c42",
        "colab": {
          "base_uri": "https://localhost:8080/",
          "height": 36
        }
      },
      "execution_count": null,
      "outputs": [
        {
          "output_type": "execute_result",
          "data": {
            "text/plain": [
              "'None'"
            ],
            "application/vnd.google.colaboratory.intrinsic+json": {
              "type": "string"
            }
          },
          "metadata": {},
          "execution_count": 29
        }
      ]
    }
  ]
}